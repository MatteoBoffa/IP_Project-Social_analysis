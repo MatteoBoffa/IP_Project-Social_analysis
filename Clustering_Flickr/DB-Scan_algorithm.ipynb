{
  "nbformat": 4,
  "nbformat_minor": 0,
  "metadata": {
    "kernelspec": {
      "language": "python",
      "display_name": "Python 3",
      "name": "python3"
    },
    "language_info": {
      "pygments_lexer": "ipython3",
      "nbconvert_exporter": "python",
      "version": "3.6.4",
      "file_extension": ".py",
      "codemirror_mode": {
        "name": "ipython",
        "version": 3
      },
      "name": "python",
      "mimetype": "text/x-python"
    },
    "colab": {
      "name": "DB-Scan_algorithm.ipynb",
      "provenance": [],
      "collapsed_sections": []
    }
  },
  "cells": [
    {
      "cell_type": "markdown",
      "metadata": {
        "id": "hp2Siw3SAmxX"
      },
      "source": [
        "## References\n",
        "###- https://www.kaggle.com/kevinarvai/knee-elbow-point-detection\n",
        "###- https://towardsdatascience.com/machine-learning-clustering-dbscan-determine-the-optimal-value-for-epsilon-eps-python-example-3100091cfbc\n",
        "###- https://geoffboeing.com/2014/08/clustering-to-reduce-spatial-data-set-size/\n"
      ]
    },
    {
      "cell_type": "code",
      "metadata": {
        "trusted": true,
        "colab": {
          "base_uri": "https://localhost:8080/"
        },
        "id": "58HXQLwFIqgx",
        "outputId": "15f973d4-a198-449c-ee57-37104d905ff1"
      },
      "source": [
        "import pandas as pd\n",
        "import numpy as np\n",
        "import matplotlib.pyplot as plt\n",
        "import sklearn.cluster as clus\n",
        "import time \n",
        "from scipy.spatial.distance import cdist\n",
        "from sklearn.metrics import silhouette_samples, silhouette_score\n",
        "!pip install haversine\n",
        "from haversine import haversine,Unit\n",
        "!pip install kneed\n",
        "from kneed import DataGenerator, KneeLocator\n",
        "from google.colab import files"
      ],
      "execution_count": null,
      "outputs": [
        {
          "output_type": "stream",
          "text": [
            "Requirement already satisfied: haversine in /usr/local/lib/python3.6/dist-packages (2.3.0)\n",
            "Requirement already satisfied: kneed in /usr/local/lib/python3.6/dist-packages (0.7.0)\n",
            "Requirement already satisfied: matplotlib in /usr/local/lib/python3.6/dist-packages (from kneed) (3.2.2)\n",
            "Requirement already satisfied: scipy in /usr/local/lib/python3.6/dist-packages (from kneed) (1.4.1)\n",
            "Requirement already satisfied: numpy>=1.14.2 in /usr/local/lib/python3.6/dist-packages (from kneed) (1.18.5)\n",
            "Requirement already satisfied: cycler>=0.10 in /usr/local/lib/python3.6/dist-packages (from matplotlib->kneed) (0.10.0)\n",
            "Requirement already satisfied: kiwisolver>=1.0.1 in /usr/local/lib/python3.6/dist-packages (from matplotlib->kneed) (1.3.1)\n",
            "Requirement already satisfied: pyparsing!=2.0.4,!=2.1.2,!=2.1.6,>=2.0.1 in /usr/local/lib/python3.6/dist-packages (from matplotlib->kneed) (2.4.7)\n",
            "Requirement already satisfied: python-dateutil>=2.1 in /usr/local/lib/python3.6/dist-packages (from matplotlib->kneed) (2.8.1)\n",
            "Requirement already satisfied: six in /usr/local/lib/python3.6/dist-packages (from cycler>=0.10->matplotlib->kneed) (1.15.0)\n"
          ],
          "name": "stdout"
        }
      ]
    },
    {
      "cell_type": "markdown",
      "metadata": {
        "id": "Df0SeniqIqg7"
      },
      "source": [
        "## Import data"
      ]
    },
    {
      "cell_type": "code",
      "metadata": {
        "trusted": true,
        "colab": {
          "base_uri": "https://localhost:8080/",
          "height": 206
        },
        "id": "AeECEoPoIqg_",
        "outputId": "db22ce19-1e63-4a5c-ee1d-940d342767c1"
      },
      "source": [
        "PATH_TO_ANALYSE=\"./points_year_2019.csv\"\n",
        "OUTPUT_NAME=\"points_year_2019_labeled.csv\"\n",
        "base_dataFrame=pd.read_csv(PATH_TO_ANALYSE)\n",
        "base_dataFrame=base_dataFrame.drop([\"Unnamed: 0\"],axis=1)\n",
        "base_dataFrame.head()"
      ],
      "execution_count": null,
      "outputs": [
        {
          "output_type": "execute_result",
          "data": {
            "text/html": [
              "<div>\n",
              "<style scoped>\n",
              "    .dataframe tbody tr th:only-of-type {\n",
              "        vertical-align: middle;\n",
              "    }\n",
              "\n",
              "    .dataframe tbody tr th {\n",
              "        vertical-align: top;\n",
              "    }\n",
              "\n",
              "    .dataframe thead th {\n",
              "        text-align: right;\n",
              "    }\n",
              "</style>\n",
              "<table border=\"1\" class=\"dataframe\">\n",
              "  <thead>\n",
              "    <tr style=\"text-align: right;\">\n",
              "      <th></th>\n",
              "      <th>lat</th>\n",
              "      <th>lon</th>\n",
              "    </tr>\n",
              "  </thead>\n",
              "  <tbody>\n",
              "    <tr>\n",
              "      <th>0</th>\n",
              "      <td>45.073379</td>\n",
              "      <td>7.684453</td>\n",
              "    </tr>\n",
              "    <tr>\n",
              "      <th>1</th>\n",
              "      <td>45.071171</td>\n",
              "      <td>7.684957</td>\n",
              "    </tr>\n",
              "    <tr>\n",
              "      <th>2</th>\n",
              "      <td>45.030524</td>\n",
              "      <td>7.722873</td>\n",
              "    </tr>\n",
              "    <tr>\n",
              "      <th>3</th>\n",
              "      <td>45.073334</td>\n",
              "      <td>7.685494</td>\n",
              "    </tr>\n",
              "    <tr>\n",
              "      <th>4</th>\n",
              "      <td>45.075445</td>\n",
              "      <td>7.638072</td>\n",
              "    </tr>\n",
              "  </tbody>\n",
              "</table>\n",
              "</div>"
            ],
            "text/plain": [
              "         lat       lon\n",
              "0  45.073379  7.684453\n",
              "1  45.071171  7.684957\n",
              "2  45.030524  7.722873\n",
              "3  45.073334  7.685494\n",
              "4  45.075445  7.638072"
            ]
          },
          "metadata": {
            "tags": []
          },
          "execution_count": 46
        }
      ]
    },
    {
      "cell_type": "markdown",
      "metadata": {
        "id": "mPX8CWJRIqhB"
      },
      "source": [
        "## Plot with outliers"
      ]
    },
    {
      "cell_type": "code",
      "metadata": {
        "trusted": true,
        "colab": {
          "base_uri": "https://localhost:8080/",
          "height": 299
        },
        "id": "GTMZzEqaIqhE",
        "outputId": "0c5988bb-22aa-46d0-fd46-9a8d4ac40630"
      },
      "source": [
        "plt.plot(base_dataFrame[\"lat\"], base_dataFrame[\"lon\"], 'o', markerfacecolor=\"green\", markeredgecolor='k', markersize=8)\n",
        "plt.title(\"Map with outliers\")"
      ],
      "execution_count": null,
      "outputs": [
        {
          "output_type": "execute_result",
          "data": {
            "text/plain": [
              "Text(0.5, 1.0, 'Map with outliers')"
            ]
          },
          "metadata": {
            "tags": []
          },
          "execution_count": 47
        },
        {
          "output_type": "display_data",
          "data": {
            "image/png": "[encoded data removed]",
            "text/plain": [
              "<Figure size 432x288 with 1 Axes>"
            ]
          },
          "metadata": {
            "tags": [],
            "needs_background": "light"
          }
        }
      ]
    },
    {
      "cell_type": "markdown",
      "metadata": {
        "id": "zqEvKahFIqhG"
      },
      "source": [
        "## Find a range of variation for epsilon (spannometric)"
      ]
    },
    {
      "cell_type": "markdown",
      "metadata": {
        "id": "dYZLQdeiIqhJ"
      },
      "source": [
        "### Evaluate distances in meters (Haversine)"
      ]
    },
    {
      "cell_type": "code",
      "metadata": {
        "trusted": true,
        "id": "BN_JMfEQIqhK",
        "colab": {
          "base_uri": "https://localhost:8080/"
        },
        "outputId": "b278b26c-09e4-4e82-f43b-893b8d862402"
      },
      "source": [
        "base_dataFrame=base_dataFrame.sort_values(by=['lat','lon'])\n",
        "array_coordinates=base_dataFrame.to_numpy()\n",
        "df_distances= pd.DataFrame(columns = [\"index\",\"distance\"])\n",
        "\n",
        "for i in range(len(array_coordinates)-1):\n",
        "    point_1=array_coordinates[i,:]\n",
        "    point_2=array_coordinates[i+1,:]\n",
        "    distance=haversine(point_1,point_2,Unit.KILOMETERS) \n",
        "    df_distances=df_distances.append({\"index\":str(i),\"distance\":distance}, ignore_index=True)\n",
        "df_distances=df_distances.sort_values(by=[\"distance\"])\n",
        "df_distances.shape"
      ],
      "execution_count": null,
      "outputs": [
        {
          "output_type": "execute_result",
          "data": {
            "text/plain": [
              "(9974, 2)"
            ]
          },
          "metadata": {
            "tags": []
          },
          "execution_count": 48
        }
      ]
    },
    {
      "cell_type": "markdown",
      "metadata": {
        "id": "RY3Msbe0IqhQ"
      },
      "source": [
        "\n",
        "### Plot the elbow "
      ]
    },
    {
      "cell_type": "markdown",
      "metadata": {
        "id": "lKolnA___Iu2"
      },
      "source": [
        "#### Find the knee"
      ]
    },
    {
      "cell_type": "code",
      "metadata": {
        "id": "_fvQYHlNycFk"
      },
      "source": [
        "array_distances=df_distances.to_numpy(dtype = 'float')\n",
        "indexes=array_distances[:,0]\n",
        "distances=array_distances[:,1]\n",
        "kneedle = KneeLocator(range(1,len(distances)+1), distances, S=1.0, curve=\"convex\", direction=\"increasing\",interp_method='polynomial')"
      ],
      "execution_count": null,
      "outputs": []
    },
    {
      "cell_type": "markdown",
      "metadata": {
        "id": "lYPZ1L3-_kOn"
      },
      "source": [
        "#### Plot the knee"
      ]
    },
    {
      "cell_type": "code",
      "metadata": {
        "id": "esJRUIB8ypWL",
        "colab": {
          "base_uri": "https://localhost:8080/",
          "height": 422
        },
        "outputId": "45cc4813-11c1-4525-da8e-2e6b9a07ecc3"
      },
      "source": [
        "kneedle.plot_knee()\n",
        "#plt.scatter(indexes,distances)\n",
        "plt.title(\"Haversine distances between points with knee\")\n",
        "plt.ylabel(\"Distance [km]\")\n",
        "plt.xlabel(\"Index of point\")"
      ],
      "execution_count": null,
      "outputs": [
        {
          "output_type": "execute_result",
          "data": {
            "text/plain": [
              "Text(0.5, 0, 'Index of point')"
            ]
          },
          "metadata": {
            "tags": []
          },
          "execution_count": 50
        },
        {
          "output_type": "display_data",
          "data": {
            "image/png": "[encoded data removed]",
            "text/plain": [
              "<Figure size 432x432 with 1 Axes>"
            ]
          },
          "metadata": {
            "tags": [],
            "needs_background": "light"
          }
        }
      ]
    },
    {
      "cell_type": "markdown",
      "metadata": {
        "id": "1aMBUaiLIqhZ"
      },
      "source": [
        "# DB-Scan method's tuning"
      ]
    },
    {
      "cell_type": "markdown",
      "metadata": {
        "id": "p8EbrC83Iqha"
      },
      "source": [
        "#### Values that will be tested:"
      ]
    },
    {
      "cell_type": "code",
      "metadata": {
        "trusted": true,
        "id": "rU6UjRUIIqhc",
        "colab": {
          "base_uri": "https://localhost:8080/"
        },
        "outputId": "77067830-181a-48ce-db46-425f8260119b"
      },
      "source": [
        "kms_per_radian = 6371.0088\n",
        "e_t=kneedle.knee_y/kms_per_radian\n",
        "M_t=np.arange(1,41,2)\n",
        "kneedle.knee_y"
      ],
      "execution_count": null,
      "outputs": [
        {
          "output_type": "execute_result",
          "data": {
            "text/plain": [
              "0.5060840458515934"
            ]
          },
          "metadata": {
            "tags": []
          },
          "execution_count": 51
        }
      ]
    },
    {
      "cell_type": "markdown",
      "metadata": {
        "id": "xaediUqJIqhc"
      },
      "source": [
        "#### Collector of results:"
      ]
    },
    {
      "cell_type": "code",
      "metadata": {
        "trusted": true,
        "id": "Ejkuqx94Iqhe"
      },
      "source": [
        "list_of_parameters=[]"
      ],
      "execution_count": null,
      "outputs": []
    },
    {
      "cell_type": "markdown",
      "metadata": {
        "id": "M1VHo-nwIqhg"
      },
      "source": [
        "#### Convert coordinates to radians"
      ]
    },
    {
      "cell_type": "code",
      "metadata": {
        "trusted": true,
        "id": "NDguKIlKIqhg"
      },
      "source": [
        "coords = base_dataFrame.to_numpy()\n",
        "radians_coords=np.radians(coords)"
      ],
      "execution_count": null,
      "outputs": []
    },
    {
      "cell_type": "markdown",
      "metadata": {
        "id": "EcY_IY8fIqhi"
      },
      "source": [
        "#### Start the tuning:"
      ]
    },
    {
      "cell_type": "code",
      "metadata": {
        "trusted": true,
        "id": "PzQ-D38kIqhj"
      },
      "source": [
        "for M in M_t:\n",
        "  try:\n",
        "    db_clusters=clus.DBSCAN(eps=e_t, min_samples=M, metric='haversine',algorithm='ball_tree').fit(radians_coords)\n",
        "    lab=db_clusters.labels_\n",
        "    sil=silhouette_score(radians_coords,lab)\n",
        "    n_noise_ = list(lab).count(-1)\n",
        "    params={\n",
        "      \"silhouette\":sil,\n",
        "      \"e\":e_t,\n",
        "      \"M\":M,\n",
        "      \"labels\":lab\n",
        "    }\n",
        "    list_of_parameters.append(params)\n",
        "  except:\n",
        "    #print(f\"With {e_t} as e and {M} as M only 1 cluster was generated\")\n",
        "    pass"
      ],
      "execution_count": null,
      "outputs": []
    },
    {
      "cell_type": "markdown",
      "metadata": {
        "id": "7TFRdBLcIqhk"
      },
      "source": [
        "#### Print the five best results:"
      ]
    },
    {
      "cell_type": "code",
      "metadata": {
        "trusted": true,
        "id": "etzdidP0Iqhl",
        "colab": {
          "base_uri": "https://localhost:8080/"
        },
        "outputId": "9ee74565-10ca-4f00-bb69-6a9297678e63"
      },
      "source": [
        "list_of_parameters.sort(key=lambda el:el[\"silhouette\"],reverse=True)\n",
        "for el in list_of_parameters[:5]:\n",
        "    n_clusters_ = len(set(el[\"labels\"])) - (1 if -1 in el[\"labels\"] else 0)\n",
        "    n_noise_ = list(el[\"labels\"]).count(-1)\n",
        "    print(\"\\nResult with e=\"+str(el[\"e\"])+\" and M=\"+str(el[\"M\"])+\":\") \n",
        "    print(\"\\tAverage silhouette:\"+str(el[\"silhouette\"])+\"\\n\\tN° of clusters: \"+str(len(set(lab)))+\\\n",
        "    \"\\n\\tNumber of outliers: \"+str(list(lab).count(-1)))"
      ],
      "execution_count": null,
      "outputs": [
        {
          "output_type": "stream",
          "text": [
            "\n",
            "Result with e=7.943546489083384e-05 and M=35:\n",
            "\tAverage silhouette:0.6506602101172377\n",
            "\tN° of clusters: 14\n",
            "\tNumber of outliers: 615\n",
            "\n",
            "Result with e=7.943546489083384e-05 and M=39:\n",
            "\tAverage silhouette:0.646608718109725\n",
            "\tN° of clusters: 14\n",
            "\tNumber of outliers: 615\n",
            "\n",
            "Result with e=7.943546489083384e-05 and M=31:\n",
            "\tAverage silhouette:0.6453425788638836\n",
            "\tN° of clusters: 14\n",
            "\tNumber of outliers: 615\n",
            "\n",
            "Result with e=7.943546489083384e-05 and M=33:\n",
            "\tAverage silhouette:0.6453425788638836\n",
            "\tN° of clusters: 14\n",
            "\tNumber of outliers: 615\n",
            "\n",
            "Result with e=7.943546489083384e-05 and M=27:\n",
            "\tAverage silhouette:0.6365306647836536\n",
            "\tN° of clusters: 14\n",
            "\tNumber of outliers: 615\n"
          ],
          "name": "stdout"
        }
      ]
    },
    {
      "cell_type": "markdown",
      "metadata": {
        "id": "_3DGxOC6Iqhm"
      },
      "source": [
        "## Run the method with the tuned params"
      ]
    },
    {
      "cell_type": "code",
      "metadata": {
        "trusted": true,
        "id": "M4OzNKZ9Iqhn"
      },
      "source": [
        "db_clusters=clus.DBSCAN(eps=list_of_parameters[0][\"e\"], min_samples=list_of_parameters[0][\"M\"],metric='haversine',algorithm='ball_tree').fit(radians_coords)\n",
        "lab=db_clusters.labels_\n",
        "#These are parameters which will be usefull later on\n",
        "core_samples_mask = np.zeros_like(lab, dtype=bool)\n",
        "core_samples_mask[db_clusters.core_sample_indices_] = True"
      ],
      "execution_count": null,
      "outputs": []
    },
    {
      "cell_type": "markdown",
      "metadata": {
        "id": "oUuPdqn2Iqhp"
      },
      "source": [
        "## Plot the results"
      ]
    },
    {
      "cell_type": "code",
      "metadata": {
        "trusted": true,
        "id": "lth8TneKIqhq",
        "colab": {
          "base_uri": "https://localhost:8080/",
          "height": 299
        },
        "outputId": "ff2e8e18-5fae-43b3-8806-bac1640e0a06"
      },
      "source": [
        "unique_labels = set(lab)\n",
        "colors = [plt.cm.Spectral(each) for each in np.linspace(0, 1, len(unique_labels))]\n",
        "for k, col in zip(unique_labels, colors):\n",
        "    if k == -1:\n",
        "        col = [0, 0, 0, 1]\n",
        "    class_member_mask = (lab == k)\n",
        "    xy = array_coordinates[class_member_mask & core_samples_mask]  \n",
        "    plt.plot(xy[:, 0], xy[:, 1], 'o', markerfacecolor=tuple(col),markeredgecolor='k', markersize=14)\n",
        "    xy = array_coordinates[class_member_mask & ~core_samples_mask] \n",
        "    plt.plot(xy[:, 0], xy[:, 1], 'o', markerfacecolor=tuple(col),markeredgecolor='k', markersize=6)\n",
        "plt.title('Estimated number of clusters: %d' % len(unique_labels))"
      ],
      "execution_count": null,
      "outputs": [
        {
          "output_type": "execute_result",
          "data": {
            "text/plain": [
              "Text(0.5, 1.0, 'Estimated number of clusters: 15')"
            ]
          },
          "metadata": {
            "tags": []
          },
          "execution_count": 57
        },
        {
          "output_type": "display_data",
          "data": {
            "image/png": "[encoded data removed]",
            "text/plain": [
              "<Figure size 432x288 with 1 Axes>"
            ]
          },
          "metadata": {
            "tags": [],
            "needs_background": "light"
          }
        }
      ]
    },
    {
      "cell_type": "markdown",
      "metadata": {
        "id": "lB_oE_vTB6cZ"
      },
      "source": [
        "## Save results"
      ]
    },
    {
      "cell_type": "code",
      "metadata": {
        "id": "VNR7iZMsB5E1",
        "colab": {
          "base_uri": "https://localhost:8080/",
          "height": 17
        },
        "outputId": "63499165-2db1-4df2-8d0e-d851fb08984f"
      },
      "source": [
        "longitudes=[]\n",
        "latitudes=[]\n",
        "cluster=[]\n",
        "for k, col in zip(unique_labels, colors):\n",
        "  class_member_mask = (lab == k)\n",
        "  xy = array_coordinates[class_member_mask]\n",
        "  longitudes+=list(xy[:,1])\n",
        "  latitudes+=list(xy[:,0])\n",
        "  listLabels=[lab[it] for it in range(len(lab)) if lab[it]==k]\n",
        "  cluster+=listLabels\n",
        "csv_file={\n",
        "\"lng\":longitudes,\n",
        "\"lat\":latitudes,\n",
        "\"label\":cluster\n",
        "}\n",
        "df2=pd.DataFrame(csv_file,columns=[\"lat\",\"lng\",\"label\"])\n",
        "df2.to_csv(OUTPUT_NAME)\n",
        "files.download(OUTPUT_NAME)"
      ],
      "execution_count": null,
      "outputs": [
        {
          "output_type": "display_data",
          "data": {
            "application/javascript": [
              "\n",
              "    async function download(id, filename, size) {\n",
              "      if (!google.colab.kernel.accessAllowed) {\n",
              "        return;\n",
              "      }\n",
              "      const div = document.createElement('div');\n",
              "      const label = document.createElement('label');\n",
              "      label.textContent = `Downloading \"${filename}\": `;\n",
              "      div.appendChild(label);\n",
              "      const progress = document.createElement('progress');\n",
              "      progress.max = size;\n",
              "      div.appendChild(progress);\n",
              "      document.body.appendChild(div);\n",
              "\n",
              "      const buffers = [];\n",
              "      let downloaded = 0;\n",
              "\n",
              "      const channel = await google.colab.kernel.comms.open(id);\n",
              "      // Send a message to notify the kernel that we're ready.\n",
              "      channel.send({})\n",
              "\n",
              "      for await (const message of channel.messages) {\n",
              "        // Send a message to notify the kernel that we're ready.\n",
              "        channel.send({})\n",
              "        if (message.buffers) {\n",
              "          for (const buffer of message.buffers) {\n",
              "            buffers.push(buffer);\n",
              "            downloaded += buffer.byteLength;\n",
              "            progress.value = downloaded;\n",
              "          }\n",
              "        }\n",
              "      }\n",
              "      const blob = new Blob(buffers, {type: 'application/binary'});\n",
              "      const a = document.createElement('a');\n",
              "      a.href = window.URL.createObjectURL(blob);\n",
              "      a.download = filename;\n",
              "      div.appendChild(a);\n",
              "      a.click();\n",
              "      div.remove();\n",
              "    }\n",
              "  "
            ],
            "text/plain": [
              "<IPython.core.display.Javascript object>"
            ]
          },
          "metadata": {
            "tags": []
          }
        },
        {
          "output_type": "display_data",
          "data": {
            "application/javascript": [
              "download(\"download_c31828df-1451-404e-a2e0-da9aedae4f0a\", \"points_year_2019_labeled.csv\", 332247)"
            ],
            "text/plain": [
              "<IPython.core.display.Javascript object>"
            ]
          },
          "metadata": {
            "tags": []
          }
        }
      ]
    }
  ]
}